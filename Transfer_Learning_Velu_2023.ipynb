{
  "cells": [
    {
      "cell_type": "markdown",
      "metadata": {
        "id": "view-in-github",
        "colab_type": "text"
      },
      "source": [
        "<a href=\"https://colab.research.google.com/github/velumahalingam/Transfer_learning/blob/master/Transfer_Learning_Velu_2023.ipynb\" target=\"_parent\"><img src=\"https://colab.research.google.com/assets/colab-badge.svg\" alt=\"Open In Colab\"/></a>"
      ]
    },
    {
      "cell_type": "code",
      "execution_count": 1,
      "metadata": {
        "colab": {
          "base_uri": "https://localhost:8080/"
        },
        "id": "EPJUhNSnjxGQ",
        "outputId": "9cfca580-2161-4126-bc2a-6c5118cabea6"
      },
      "outputs": [
        {
          "output_type": "stream",
          "name": "stdout",
          "text": [
            "Mounted at /content/drive\n"
          ]
        }
      ],
      "source": [
        "from google.colab import drive\n",
        "\n",
        "# Unmount Google Drive if already mounted\n",
        "drive.flush_and_unmount()\n",
        "\n",
        "# Mount Google Drive\n",
        "drive.mount('/content/drive')\n"
      ]
    },
    {
      "cell_type": "code",
      "execution_count": 2,
      "metadata": {
        "id": "T9sGPOu_ju18",
        "colab": {
          "base_uri": "https://localhost:8080/"
        },
        "outputId": "dd66815d-52d9-4fa6-9fc5-501af5c55703"
      },
      "outputs": [
        {
          "output_type": "stream",
          "name": "stdout",
          "text": [
            "/content/drive/My Drive/ColabNotebooks\n"
          ]
        }
      ],
      "source": [
        "cd /content/drive/My Drive/ColabNotebooks"
      ]
    },
    {
      "cell_type": "code",
      "execution_count": 3,
      "metadata": {
        "colab": {
          "base_uri": "https://localhost:8080/"
        },
        "id": "vfGhuEMKeT0-",
        "outputId": "10b25785-46d2-4e96-efae-ff66bdf622c7"
      },
      "outputs": [
        {
          "output_type": "stream",
          "name": "stdout",
          "text": [
            "Found 64 images belonging to 4 classes.\n",
            "Found 60 images belonging to 4 classes.\n",
            "Found 27 images belonging to 4 classes.\n"
          ]
        },
        {
          "output_type": "stream",
          "name": "stderr",
          "text": [
            "/usr/local/lib/python3.9/dist-packages/keras/optimizers/legacy/adam.py:117: UserWarning: The `lr` argument is deprecated, use `learning_rate` instead.\n",
            "  super().__init__(name, **kwargs)\n",
            "<ipython-input-3-9d9199d13cd0>:66: UserWarning: `Model.fit_generator` is deprecated and will be removed in a future version. Please use `Model.fit`, which supports generators.\n",
            "  model.fit_generator(\n"
          ]
        },
        {
          "output_type": "stream",
          "name": "stdout",
          "text": [
            "Epoch 1/20\n",
            "2/2 [==============================] - 38s 30s/step - loss: 2.5906 - accuracy: 0.4688 - val_loss: 1.4924 - val_accuracy: 0.3750\n",
            "Epoch 2/20\n",
            "2/2 [==============================] - 27s 20s/step - loss: 1.5393 - accuracy: 0.2031 - val_loss: 1.4856 - val_accuracy: 0.1250\n",
            "Epoch 3/20\n",
            "2/2 [==============================] - 28s 22s/step - loss: 1.3335 - accuracy: 0.5000 - val_loss: 1.4388 - val_accuracy: 0.3125\n",
            "Epoch 4/20\n",
            "2/2 [==============================] - 27s 21s/step - loss: 1.2966 - accuracy: 0.4688 - val_loss: 1.6003 - val_accuracy: 0.1875\n",
            "Epoch 5/20\n",
            "2/2 [==============================] - 26s 21s/step - loss: 1.2299 - accuracy: 0.4688 - val_loss: 1.7379 - val_accuracy: 0.2500\n",
            "Epoch 6/20\n",
            "2/2 [==============================] - 26s 19s/step - loss: 1.2077 - accuracy: 0.4688 - val_loss: 1.4108 - val_accuracy: 0.2188\n",
            "Epoch 7/20\n",
            "2/2 [==============================] - 26s 20s/step - loss: 1.1194 - accuracy: 0.6094 - val_loss: 1.5701 - val_accuracy: 0.2812\n",
            "Epoch 8/20\n",
            "2/2 [==============================] - 27s 20s/step - loss: 1.0457 - accuracy: 0.5156 - val_loss: 1.5517 - val_accuracy: 0.1875\n",
            "Epoch 9/20\n",
            "2/2 [==============================] - 27s 20s/step - loss: 1.0452 - accuracy: 0.5938 - val_loss: 1.6879 - val_accuracy: 0.1875\n",
            "Epoch 10/20\n",
            "2/2 [==============================] - 28s 20s/step - loss: 0.8528 - accuracy: 0.6562 - val_loss: 1.9166 - val_accuracy: 0.3438\n",
            "Epoch 11/20\n",
            "2/2 [==============================] - 27s 21s/step - loss: 0.8159 - accuracy: 0.7188 - val_loss: 1.5080 - val_accuracy: 0.3438\n",
            "Epoch 12/20\n",
            "2/2 [==============================] - 27s 21s/step - loss: 0.7201 - accuracy: 0.7500 - val_loss: 2.0122 - val_accuracy: 0.2188\n",
            "Epoch 13/20\n",
            "2/2 [==============================] - 27s 22s/step - loss: 0.5812 - accuracy: 0.8125 - val_loss: 2.3813 - val_accuracy: 0.2812\n",
            "Epoch 14/20\n",
            "2/2 [==============================] - 26s 20s/step - loss: 0.4848 - accuracy: 0.8594 - val_loss: 2.3093 - val_accuracy: 0.2500\n",
            "Epoch 15/20\n",
            "2/2 [==============================] - 26s 20s/step - loss: 0.4262 - accuracy: 0.9062 - val_loss: 3.1105 - val_accuracy: 0.3438\n",
            "Epoch 16/20\n",
            "2/2 [==============================] - 27s 20s/step - loss: 0.4253 - accuracy: 0.8594 - val_loss: 3.5873 - val_accuracy: 0.3125\n",
            "Epoch 17/20\n",
            "2/2 [==============================] - 28s 20s/step - loss: 0.2937 - accuracy: 0.8906 - val_loss: 3.4031 - val_accuracy: 0.1875\n",
            "Epoch 18/20\n",
            "2/2 [==============================] - 27s 21s/step - loss: 0.3493 - accuracy: 0.8438 - val_loss: 5.1220 - val_accuracy: 0.3125\n",
            "Epoch 19/20\n",
            "2/2 [==============================] - 27s 21s/step - loss: 0.1855 - accuracy: 0.9219 - val_loss: 3.7262 - val_accuracy: 0.3125\n",
            "Epoch 20/20\n",
            "2/2 [==============================] - 27s 21s/step - loss: 0.3243 - accuracy: 0.8906 - val_loss: 3.5094 - val_accuracy: 0.3125\n"
          ]
        },
        {
          "output_type": "stream",
          "name": "stderr",
          "text": [
            "<ipython-input-3-9d9199d13cd0>:76: UserWarning: `Model.evaluate_generator` is deprecated and will be removed in a future version. Please use `Model.evaluate`, which supports generators.\n",
            "  scores = model.evaluate_generator(test_generator, steps=test_steps)  # Use test_steps in model.evaluate_generator\n"
          ]
        },
        {
          "output_type": "stream",
          "name": "stdout",
          "text": [
            "Test loss: 2.4146242141723633\n",
            "Test accuracy: 0.40740740299224854\n"
          ]
        }
      ],
      "source": [
        "import os\n",
        "import numpy as np\n",
        "from keras.preprocessing.image import ImageDataGenerator\n",
        "from keras.models import Sequential\n",
        "from keras.layers import Conv2D, MaxPooling2D, Flatten, Dense\n",
        "from keras.optimizers import Adam\n",
        "\n",
        "# Set the paths to your image folders\n",
        "train_data_dir = 'Datasets/Train'  # Path to your training data folder\n",
        "validation_data_dir = 'Datasets/Validation'  # Path to your validation data folder\n",
        "test_data_dir = 'Datasets/Test'  # Path to your test data folder\n",
        "\n",
        "# Define hyperparameters\n",
        "img_width, img_height = 150, 150  # Input image dimensions\n",
        "batch_size = 32  # Number of samples per gradient update\n",
        "epochs = 20  # Number of times to iterate over the entire training dataset\n",
        "num_classes = 4  # Number of image classes\n",
        "\n",
        "# Data augmentation for training data\n",
        "train_datagen = ImageDataGenerator(\n",
        "    rescale=1./255,  # Rescale pixel values to [0,1]\n",
        "    shear_range=0.2,  # Random shear transformation\n",
        "    zoom_range=0.2,  # Random zoom transformation\n",
        "    horizontal_flip=True)  # Random horizontal flip\n",
        "\n",
        "# Rescaling for validation and test data\n",
        "validation_test_datagen = ImageDataGenerator(rescale=1./255)\n",
        "\n",
        "# Generate batches of augmented image data from training folder\n",
        "train_generator = train_datagen.flow_from_directory(\n",
        "    train_data_dir,\n",
        "    target_size=(img_width, img_height),\n",
        "    batch_size=batch_size,\n",
        "    class_mode='categorical')\n",
        "\n",
        "# Generate batches of validation data\n",
        "validation_generator = validation_test_datagen.flow_from_directory(\n",
        "    validation_data_dir,\n",
        "    target_size=(img_width, img_height),\n",
        "    batch_size=batch_size,\n",
        "    class_mode='categorical')\n",
        "\n",
        "# Generate batches of test data\n",
        "test_generator = validation_test_datagen.flow_from_directory(\n",
        "    test_data_dir,\n",
        "    target_size=(img_width, img_height),\n",
        "    batch_size=batch_size,\n",
        "    class_mode='categorical')\n",
        "\n",
        "# Build the CNN model\n",
        "model = Sequential()\n",
        "model.add(Conv2D(32, (3, 3), input_shape=(img_width, img_height, 3), activation='relu'))\n",
        "model.add(MaxPooling2D(pool_size=(2, 2)))\n",
        "model.add(Conv2D(64, (3, 3), activation='relu'))\n",
        "model.add(MaxPooling2D(pool_size=(2, 2)))\n",
        "model.add(Conv2D(128, (3, 3), activation='relu'))\n",
        "model.add(MaxPooling2D(pool_size=(2, 2)))\n",
        "model.add(Flatten())\n",
        "model.add(Dense(128, activation='relu'))\n",
        "model.add(Dense(num_classes, activation='softmax'))\n",
        "\n",
        "# Compile the model\n",
        "model.compile(optimizer=Adam(lr=0.001), loss='categorical_crossentropy', metrics=['accuracy'])\n",
        "\n",
        "# Train the model\n",
        "model.fit_generator(\n",
        "    train_generator,\n",
        "    steps_per_epoch=train_generator.samples // batch_size,\n",
        "    epochs=epochs,\n",
        "    validation_data=validation_generator,\n",
        "    validation_steps=validation_generator.samples // batch_size)\n",
        "\n",
        "\n",
        "# Evaluate the model on test data\n",
        "test_steps = np.ceil(test_generator.samples / batch_size)  # Calculate total number of test steps\n",
        "scores = model.evaluate_generator(test_generator, steps=test_steps)  # Use test_steps in model.evaluate_generator\n",
        "print(\"Test loss:\", scores[0])\n",
        "print(\"Test accuracy:\", scores[1])\n",
        "\n"
      ]
    },
    {
      "cell_type": "markdown",
      "metadata": {
        "id": "JcaZGXs-eRlk"
      },
      "source": [
        "# New section"
      ]
    }
  ],
  "metadata": {
    "colab": {
      "provenance": [],
      "authorship_tag": "ABX9TyOcDFTUR6dcrOdwKQYqkMCP",
      "include_colab_link": true
    },
    "kernelspec": {
      "display_name": "Python 3",
      "name": "python3"
    },
    "language_info": {
      "name": "python"
    }
  },
  "nbformat": 4,
  "nbformat_minor": 0
}